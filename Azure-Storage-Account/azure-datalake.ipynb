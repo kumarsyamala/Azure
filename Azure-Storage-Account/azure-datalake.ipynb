{
  "nbformat": 4,
  "nbformat_minor": 0,
  "metadata": {
    "colab": {
      "provenance": [],
      "collapsed_sections": []
    },
    "kernelspec": {
      "name": "python3",
      "display_name": "Python 3"
    },
    "language_info": {
      "name": "python"
    }
  },
  "cells": [
    {
      "cell_type": "code",
      "execution_count": null,
      "metadata": {
        "id": "z81zJhg6wu5n"
      },
      "outputs": [],
      "source": [
        "!pip install azure-storage-file-datalake \n",
        "!pip install azure-datalake-store\n",
        "!pip install azure-identity"
      ]
    },
    {
      "cell_type": "code",
      "source": [
        "from azure.datalake.store import core, lib\n",
        "from azure.storage.filedatalake import DataLakeServiceClient\n",
        "import os, uuid, sys\n",
        "from azure.storage.filedatalake import DataLakeServiceClient\n",
        "from azure.core._match_conditions import MatchConditions\n",
        "from azure.storage.filedatalake._models import ContentSettings\n",
        "import pandas as pd\n",
        "import pandas as pd\n",
        "import io\n",
        "from io import StringIO\n",
        "from azure.storage.blob import BlobServiceClient, BlobClient, ContainerClient"
      ],
      "metadata": {
        "id": "gQ_3WnHVwyJx"
      },
      "execution_count": null,
      "outputs": []
    },
    {
      "cell_type": "code",
      "source": [
        "storage_account_name = \"\"\n",
        "storage_account_key = \"\""
      ],
      "metadata": {
        "id": "Ix_JJOjmw3ko"
      },
      "execution_count": null,
      "outputs": []
    },
    {
      "cell_type": "code",
      "source": [
        "def initialize_storage_account():  \n",
        "    \n",
        "    try:  \n",
        "        global service_client\n",
        "\n",
        "        service_client = DataLakeServiceClient(account_url=\"{}://{}.dfs.core.windows.net\".format( \n",
        "            \"https\", storage_account_name), credential=storage_account_key)\n",
        "    \n",
        "    except Exception as e:\n",
        "        print(e)"
      ],
      "metadata": {
        "id": "EX0w7cGVw6pR"
      },
      "execution_count": null,
      "outputs": []
    },
    {
      "cell_type": "code",
      "source": [
        "def create_file_system():\n",
        "\n",
        "  \n",
        "  initialize_storage_account()\n",
        "\n",
        "  global Container_name\n",
        "\n",
        "\n",
        "  for retry in range(5):\n",
        "\n",
        "    Container_name=str(input('Enter the Container name : '))\n",
        "\n",
        "    file_system_client = service_client.get_file_system_client(file_system=Container_name)\n",
        "\n",
        "    if file_system_client.exists()==False:\n",
        "\n",
        "      try:\n",
        "\n",
        "        file_system_client = service_client.create_file_system(file_system=Container_name)\n",
        "\n",
        "        print(\"Container Successfully Created \")\n",
        "\n",
        "        break\n",
        "\n",
        "      except Exception as e:\n",
        "\n",
        "        print(e)\n",
        "\n",
        "        break\n",
        "\n",
        "    else:\n",
        "\n",
        "      print(\"Container Already exists\")\n",
        "      print(\"Enter different name \")\n",
        "\n",
        "  else:\n",
        "        \n",
        "        print(\"you keep making invalid choices, exiting.\")\n",
        "        s= \"you keep making invalid choices, exiting.\"\n",
        "      \n",
        "        return s\n",
        "         "
      ],
      "metadata": {
        "id": "2yX4rP0y5zf0"
      },
      "execution_count": null,
      "outputs": []
    },
    {
      "cell_type": "code",
      "source": [
        "def create_directory():\n",
        "\n",
        "  initialize_storage_account()\n",
        "\n",
        "  global directory_name\n",
        "\n",
        "  for retry in range(5):\n",
        "\n",
        "      directory_name=str(input('Enter the directory name : '))\n",
        "\n",
        "      file_system_client = service_client.get_file_system_client(file_system=Container_name)\n",
        "\n",
        "\n",
        "      if file_system_client.get_directory_client(directory_name).exists()==False:\n",
        "\n",
        "        try:\n",
        "\n",
        "          file_system_client.create_directory(directory_name)\n",
        "\n",
        "          print('Directory created Successfully')\n",
        "\n",
        "          break\n",
        "\n",
        "        except Exception as e:\n",
        "\n",
        "          print(e)\n",
        "\n",
        "          break\n",
        "\n",
        "      else:\n",
        "\n",
        "        print(\"Directory Already exists\")\n",
        "        print(\"Enter different name \")\n",
        "\n",
        "\n",
        "  else:\n",
        "      print( \"you keep making invalid choices, exiting.\")\n",
        "\n",
        "      s= \"you keep making invalid choices, exiting.\"\n",
        "      \n",
        "      return s"
      ],
      "metadata": {
        "id": "Wm6qjJ1C83Lz"
      },
      "execution_count": null,
      "outputs": []
    },
    {
      "cell_type": "code",
      "source": [
        "def upload_file():\n",
        "\n",
        "  initialize_storage_account()\n",
        "\n",
        "  \n",
        "  wantto_createcontainer=str(input('Want to Create Container (Yes/No) : '))\n",
        "\n",
        "  \n",
        "\n",
        "  if wantto_createcontainer.capitalize()=='Yes':\n",
        "    \n",
        "    \n",
        "    output=create_file_system()\n",
        "\n",
        "    if output==\"you keep making invalid choices, exiting.\":\n",
        "\n",
        "      return 'Execute the Function Again'\n",
        "\n",
        "\n",
        "    wantto_createdirectory=str(input('Want to Create Directory (Yes/No) : '))\n",
        "\n",
        "    if wantto_createdirectory.capitalize()=='Yes':\n",
        "\n",
        "        out_put=create_directory() \n",
        "\n",
        "        if output==\"you keep making invalid choices, exiting.\":\n",
        "          \n",
        "          return 'Execute the Function Again'\n",
        "\n",
        "\n",
        "        try:\n",
        "\n",
        "          file_system_client = service_client.get_file_system_client(file_system=Container_name)  #need to mention the container name\n",
        "          directory_client = file_system_client.get_directory_client(directory_name) #if we want the folder name\n",
        "          file_client = directory_client.create_file(str(input('Enter the file name and extension to create : '))) #it will create an empty csv file\n",
        "          local_file = open(str(input('Enter the Local path : ')),'r') #we are reading the csv file from local\n",
        "\n",
        "          file_contents = local_file.read() #reading the file \n",
        "\n",
        "          file_client.append_data(data=file_contents, offset=0, length=len(file_contents)) #addeding the data to empty csv file\n",
        "\n",
        "          file_client.flush_data(len(file_contents)) # commiting the append of data\n",
        "\n",
        "          print(\"File uploaded file to directory\")\n",
        "\n",
        "        except Exception as e:\n",
        "          print(e)\n",
        "\n",
        "    else:\n",
        "        try:\n",
        "\n",
        "          file_system_client = service_client.get_file_system_client(file_system=Container_name)  #need to mention the container name\n",
        "          directory_client = file_system_client.get_directory_client(str(input('Enter the directory name : '))) #if we want the folder name\n",
        "          file_client = directory_client.create_file(str(input('Enter the file name and extension to create : '))) #it will create an empty csv file\n",
        "          local_file = open(str(input('Enter the Local path : ')),'r') #we are reading the csv file from local\n",
        "          file_contents = local_file.read() #reading the file \n",
        "\n",
        "          file_client.append_data(data=file_contents, offset=0, length=len(file_contents)) #addeding the data to empty csv file\n",
        "\n",
        "          file_client.flush_data(len(file_contents)) # commiting the append of data\n",
        "          print(\"File uploaded file to directory\")\n",
        "\n",
        "        except Exception as e:\n",
        "          print(e)\n",
        "\n",
        "  else:\n",
        "\n",
        "    try:\n",
        "\n",
        "      file_system_client = service_client.get_file_system_client(file_system=str(input('Enter the Container name : ')))  #need to mention the container name\n",
        "\n",
        "      file_client=file_system_client.create_file(str(input('Enter the file name and extension to create : ')))\n",
        "      local_file = open(str(input('Enter the Local path : ')),'r') #we are reading the csv file from local\n",
        "\n",
        "      file_contents = local_file.read() #reading the file \n",
        "\n",
        "      file_client.append_data(data=file_contents, offset=0, length=len(file_contents)) #addeding the data to empty csv file\n",
        "\n",
        "      file_client.flush_data(len(file_contents)) # commiting the append of data\n",
        "      print(\"File uploaded\")\n",
        "\n",
        "    except Exception as e:\n",
        "        print(e)\n",
        "\n",
        "\n"
      ],
      "metadata": {
        "id": "1LOWLtooBVKL"
      },
      "execution_count": null,
      "outputs": []
    },
    {
      "cell_type": "code",
      "source": [
        "upload_file()"
      ],
      "metadata": {
        "id": "H8ZlRpdK2nPO"
      },
      "execution_count": null,
      "outputs": []
    },
    {
      "cell_type": "code",
      "source": [
        "def read_file():\n",
        "\n",
        "  container_name =str(input('Enter the Container name : '))\n",
        "\n",
        "  file_system_client = service_client.get_file_system_client(file_system=container_name)\n",
        "\n",
        "  wantto_readfromdirectory=str(input('Want to read from Directory (Yes/No) : '))\n",
        "\n",
        "  if wantto_readfromdirectory.capitalize()=='Yes':\n",
        "\n",
        "\n",
        "    directory_name=str(input('Enter the directory name : '))\n",
        "\n",
        "    directory_client = file_system_client.get_directory_client(directory_name)\n",
        "\n",
        "    file_client = file_system_client.get_file_client(str(input('Enter the file path : ')))\n",
        "\n",
        "    download = file_client.download_file()\n",
        "\n",
        "    downloaded_bytes = download.readall()\n",
        "\n",
        "    data_string=downloaded_bytes.decode('UTF-8')\n",
        "    data = io.StringIO(data_string)\n",
        "    df = pd. read_csv(data)\n",
        "\n",
        "    return df\n",
        "\n",
        "  else:\n",
        "\n",
        "    file_client = file_system_client.get_file_client(str(input('Enter the Filename with extension : ')))\n",
        "\n",
        "    download = file_client.download_file()\n",
        "\n",
        "    downloaded_bytes = download.readall()\n",
        "\n",
        "    data_string=downloaded_bytes.decode('UTF-8')\n",
        "    data = io.StringIO(data_string)\n",
        "    df = pd. read_csv(data)\n",
        "\n",
        "    return df"
      ],
      "metadata": {
        "id": "UetYqUVfIXGp"
      },
      "execution_count": null,
      "outputs": []
    },
    {
      "cell_type": "code",
      "source": [
        "df=read_file()"
      ],
      "metadata": {
        "id": "6D3HqnTYLd76"
      },
      "execution_count": null,
      "outputs": []
    },
    {
      "cell_type": "code",
      "source": [
        "df"
      ],
      "metadata": {
        "id": "ArtB32IzLgui"
      },
      "execution_count": null,
      "outputs": []
    }
  ]
}